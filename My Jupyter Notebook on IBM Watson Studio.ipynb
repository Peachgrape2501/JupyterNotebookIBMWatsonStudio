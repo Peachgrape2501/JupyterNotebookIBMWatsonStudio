{
  "metadata": {
    "language_info": {
      "codemirror_mode": {
        "name": "python",
        "version": 3
      },
      "file_extension": ".py",
      "mimetype": "text/x-python",
      "name": "python",
      "nbconvert_exporter": "python",
      "pygments_lexer": "ipython3",
      "version": "3.8"
    },
    "kernelspec": {
      "name": "python",
      "display_name": "Pyolite",
      "language": "python"
    }
  },
  "nbformat_minor": 4,
  "nbformat": 4,
  "cells": [
    {
      "cell_type": "markdown",
      "source": "# My Jupyter Notebook on IBM Watson Studio",
      "metadata": {}
    },
    {
      "cell_type": "markdown",
      "source": "#### Taotao Ouyang\n#### Doctor who works in NHS digital  department",
      "metadata": {}
    },
    {
      "cell_type": "markdown",
      "source": "##### I'm interested in data science because current medical industry is facing such revolutionary change",
      "metadata": {}
    },
    {
      "cell_type": "markdown",
      "source": "My code is going to do a simple calculation",
      "metadata": {}
    },
    {
      "cell_type": "code",
      "source": "1 + 1",
      "metadata": {
        "trusted": true
      },
      "execution_count": 1,
      "outputs": [
        {
          "execution_count": 1,
          "output_type": "execute_result",
          "data": {
            "text/plain": "2"
          },
          "metadata": {}
        }
      ]
    },
    {
      "cell_type": "markdown",
      "source": "table",
      "metadata": {}
    },
    {
      "cell_type": "markdown",
      "source": "| data | science | is   | interesting\n|------|---------|------|------------\n| I    | actually| like | it \n|just  | keep    | do   | it",
      "metadata": {}
    },
    {
      "cell_type": "markdown",
      "source": "horizontal rules",
      "metadata": {}
    },
    {
      "cell_type": "markdown",
      "source": "three or more...\n---\nhyphens\n***\nasterisks\n___\nunderscores",
      "metadata": {}
    },
    {
      "cell_type": "markdown",
      "source": "HTML",
      "metadata": {}
    },
    {
      "cell_type": "markdown",
      "source": "<a href=\"https://www.google.com\">google</a>",
      "metadata": {}
    }
  ]
}